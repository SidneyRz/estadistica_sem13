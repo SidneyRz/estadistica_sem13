{
  "nbformat": 4,
  "nbformat_minor": 0,
  "metadata": {
    "colab": {
      "provenance": [],
      "authorship_tag": "ABX9TyPBu3hDAUo27hvDDQv0bJnn",
      "include_colab_link": true
    },
    "kernelspec": {
      "name": "python3",
      "display_name": "Python 3"
    },
    "language_info": {
      "name": "python"
    }
  },
  "cells": [
    {
      "cell_type": "markdown",
      "metadata": {
        "id": "view-in-github",
        "colab_type": "text"
      },
      "source": [
        "<a href=\"https://colab.research.google.com/github/SidneyRz/estadistica_sem13/blob/main/Correlacion.ipynb\" target=\"_parent\"><img src=\"https://colab.research.google.com/assets/colab-badge.svg\" alt=\"Open In Colab\"/></a>"
      ]
    },
    {
      "cell_type": "code",
      "execution_count": 1,
      "metadata": {
        "id": "yorsmMU5yjUn"
      },
      "outputs": [],
      "source": [
        "from pyspark.sql import SparkSession\n",
        "from pyspark.sql.functions import col, expr, mean, corr"
      ]
    },
    {
      "cell_type": "code",
      "source": [
        "spark = SparkSession.builder.appName(\"Estadistica\").getOrCreate()"
      ],
      "metadata": {
        "id": "DR32mUjyyzuu"
      },
      "execution_count": 2,
      "outputs": []
    },
    {
      "cell_type": "code",
      "source": [
        "df=spark.read.csv(\"ejemplo_notas1.csv\", header=True, inferSchema=True)"
      ],
      "metadata": {
        "id": "iWqy_kK8y3U-"
      },
      "execution_count": 3,
      "outputs": []
    },
    {
      "cell_type": "code",
      "source": [
        "df.show()"
      ],
      "metadata": {
        "colab": {
          "base_uri": "https://localhost:8080/"
        },
        "id": "x_QSjLmozAAn",
        "outputId": "4f42c51c-4385-4e72-869b-7678b7552cd8"
      },
      "execution_count": 4,
      "outputs": [
        {
          "output_type": "stream",
          "name": "stdout",
          "text": [
            "+---------+---+---+---+\n",
            "|   Alumno| T1| T2| T3|\n",
            "+---------+---+---+---+\n",
            "|   Pepito| 12| 10| 14|\n",
            "|     Jose| 15| 19| 15|\n",
            "|   Camila| 17| 17| 17|\n",
            "|     Luis| 11| 15| 16|\n",
            "|      Ana| 12| 10| 15|\n",
            "|    Maria| 16| 11| 17|\n",
            "|Sebastian| 18| 12| 12|\n",
            "|    Marco| 20| 16| 18|\n",
            "|  William| 16| 14| 13|\n",
            "|   Alvaro| 19| 18| 14|\n",
            "+---------+---+---+---+\n",
            "\n"
          ]
        }
      ]
    },
    {
      "cell_type": "code",
      "source": [
        "correlacion = df.select(corr(col(\"T1\"),col(\"T2\")).alias(\"correlacion\")).collect()[0][\"correlacion\"]"
      ],
      "metadata": {
        "id": "rPWXS066zR6t"
      },
      "execution_count": 6,
      "outputs": []
    },
    {
      "cell_type": "code",
      "source": [
        "print(\"La correlacion es:\",correlacion)"
      ],
      "metadata": {
        "colab": {
          "base_uri": "https://localhost:8080/"
        },
        "id": "CLrTDUT1zua9",
        "outputId": "660e8ccc-7096-40de-9cfa-dc42787866e5"
      },
      "execution_count": 7,
      "outputs": [
        {
          "output_type": "stream",
          "name": "stdout",
          "text": [
            "La correlacion es: 0.45059849964617654\n"
          ]
        }
      ]
    },
    {
      "cell_type": "code",
      "source": [
        "correlacion2 = df.select(corr(col(\"T2\"),col(\"T3\")).alias(\"correlacion\")).collect()[0][\"correlacion\"]"
      ],
      "metadata": {
        "id": "QKi-ejdJzws-"
      },
      "execution_count": 8,
      "outputs": []
    },
    {
      "cell_type": "code",
      "source": [
        "print(\"La correlacion es:\",correlacion2)"
      ],
      "metadata": {
        "colab": {
          "base_uri": "https://localhost:8080/"
        },
        "id": "C3Ci2x6rzzsF",
        "outputId": "26b29083-ffb7-44be-c0bf-bc0741c47b07"
      },
      "execution_count": 9,
      "outputs": [
        {
          "output_type": "stream",
          "name": "stdout",
          "text": [
            "La correlacion es: 0.22360543297488972\n"
          ]
        }
      ]
    },
    {
      "cell_type": "code",
      "source": [
        "correlacion3 = df.select(corr(col(\"T1\"),col(\"T3\")).alias(\"correlacion\")).collect()[0][\"correlacion\"]"
      ],
      "metadata": {
        "id": "oEH5dfQBz6kN"
      },
      "execution_count": 10,
      "outputs": []
    },
    {
      "cell_type": "code",
      "source": [
        "print(\"La correlacion es:\",correlacion3)"
      ],
      "metadata": {
        "colab": {
          "base_uri": "https://localhost:8080/"
        },
        "id": "4fboNHYqz_P-",
        "outputId": "f06634b2-56dc-4f79-aada-fffd08e59e2d"
      },
      "execution_count": 11,
      "outputs": [
        {
          "output_type": "stream",
          "name": "stdout",
          "text": [
            "La correlacion es: 0.08252734171116254\n"
          ]
        }
      ]
    }
  ]
}