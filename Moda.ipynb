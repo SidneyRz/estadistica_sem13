{
  "nbformat": 4,
  "nbformat_minor": 0,
  "metadata": {
    "colab": {
      "provenance": [],
      "authorship_tag": "ABX9TyNIC2DrqEfK8vEouxWcG0U7",
      "include_colab_link": true
    },
    "kernelspec": {
      "name": "python3",
      "display_name": "Python 3"
    },
    "language_info": {
      "name": "python"
    }
  },
  "cells": [
    {
      "cell_type": "markdown",
      "metadata": {
        "id": "view-in-github",
        "colab_type": "text"
      },
      "source": [
        "<a href=\"https://colab.research.google.com/github/SidneyRz/estadistica_sem13/blob/main/Moda.ipynb\" target=\"_parent\"><img src=\"https://colab.research.google.com/assets/colab-badge.svg\" alt=\"Open In Colab\"/></a>"
      ]
    },
    {
      "cell_type": "code",
      "execution_count": 1,
      "metadata": {
        "id": "a7i8wHBrmmbW"
      },
      "outputs": [],
      "source": [
        "from pyspark.sql import SparkSession\n",
        "from pyspark.sql.functions import col, expr, mean, corr"
      ]
    },
    {
      "cell_type": "code",
      "source": [
        "spark = SparkSession.builder.appName(\"Estadistica\").getOrCreate()"
      ],
      "metadata": {
        "id": "lE7UqnsTmvDN"
      },
      "execution_count": 2,
      "outputs": []
    },
    {
      "cell_type": "code",
      "source": [
        "df = spark.read.csv(\"ejemplo_notas1.csv\", header=True, inferSchema=True)"
      ],
      "metadata": {
        "id": "QsLw7y5NqFE8"
      },
      "execution_count": 12,
      "outputs": []
    },
    {
      "cell_type": "code",
      "source": [
        "df.show()"
      ],
      "metadata": {
        "colab": {
          "base_uri": "https://localhost:8080/"
        },
        "id": "LsYIHDzUqKvE",
        "outputId": "bcaf77ef-6c67-48cc-ca8f-f219df042ce4"
      },
      "execution_count": 13,
      "outputs": [
        {
          "output_type": "stream",
          "name": "stdout",
          "text": [
            "+---------+---+---+---+\n",
            "|   Alumno| T1| T2| T3|\n",
            "+---------+---+---+---+\n",
            "|   Pepito| 12| 10| 14|\n",
            "|     Jose| 15| 19| 15|\n",
            "|   Camila| 17| 17| 17|\n",
            "|     Luis| 11| 15| 16|\n",
            "|      Ana| 12| 10| 15|\n",
            "|    Maria| 16| 11| 17|\n",
            "|Sebastian| 18| 12| 12|\n",
            "|    Marco| 20| 16| 18|\n",
            "|  William| 16| 14| 13|\n",
            "|   Alvaro| 19| 18| 14|\n",
            "+---------+---+---+---+\n",
            "\n"
          ]
        }
      ]
    },
    {
      "cell_type": "code",
      "source": [
        "var_moda = df.groupBy(\"T1\").count().orderBy(col(\"count\").desc()).first()"
      ],
      "metadata": {
        "id": "oU3ijJleqanv"
      },
      "execution_count": 21,
      "outputs": []
    },
    {
      "cell_type": "code",
      "source": [
        "print(\"La moda del examen T1:\",var_moda[\"T1\"])"
      ],
      "metadata": {
        "colab": {
          "base_uri": "https://localhost:8080/"
        },
        "id": "gFYIdnnJrnrl",
        "outputId": "340d662f-2e27-4d73-95cc-61d7b03c4b88"
      },
      "execution_count": 30,
      "outputs": [
        {
          "output_type": "stream",
          "name": "stdout",
          "text": [
            "La moda del examen T1: 12\n"
          ]
        }
      ]
    },
    {
      "cell_type": "code",
      "source": [
        "var_moda2 = df.groupBy(\"T2\").count().orderBy(col(\"count\").desc()).first()"
      ],
      "metadata": {
        "id": "sCKtR_wVsMYk"
      },
      "execution_count": 23,
      "outputs": []
    },
    {
      "cell_type": "code",
      "source": [
        "print(\"La moda del examen T2:\",var_moda2[\"T2\"])"
      ],
      "metadata": {
        "colab": {
          "base_uri": "https://localhost:8080/"
        },
        "id": "TVCAtjhdsM90",
        "outputId": "7a58d76c-b48c-48b4-a88e-9e6c715f474e"
      },
      "execution_count": 29,
      "outputs": [
        {
          "output_type": "stream",
          "name": "stdout",
          "text": [
            "La moda del examen T2: 10\n"
          ]
        }
      ]
    },
    {
      "cell_type": "code",
      "source": [
        "var_moda3 = df.groupBy(\"T3\").count().orderBy(col(\"count\").desc()).first()"
      ],
      "metadata": {
        "id": "JsGWIqiLsNeE"
      },
      "execution_count": 26,
      "outputs": []
    },
    {
      "cell_type": "code",
      "source": [
        "print(\"La moda del examen T3:\",var_moda3[\"T3\"])"
      ],
      "metadata": {
        "colab": {
          "base_uri": "https://localhost:8080/"
        },
        "id": "841DV8LMsRxs",
        "outputId": "5d6ccc73-a6f7-451b-cfbe-3ff32aff19a8"
      },
      "execution_count": 28,
      "outputs": [
        {
          "output_type": "stream",
          "name": "stdout",
          "text": [
            "La moda del examen T3: 15\n"
          ]
        }
      ]
    }
  ]
}