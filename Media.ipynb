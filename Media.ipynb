{
  "nbformat": 4,
  "nbformat_minor": 0,
  "metadata": {
    "colab": {
      "provenance": [],
      "authorship_tag": "ABX9TyNMuyZA2vZDWwlt8mMlNwY8",
      "include_colab_link": true
    },
    "kernelspec": {
      "name": "python3",
      "display_name": "Python 3"
    },
    "language_info": {
      "name": "python"
    }
  },
  "cells": [
    {
      "cell_type": "markdown",
      "metadata": {
        "id": "view-in-github",
        "colab_type": "text"
      },
      "source": [
        "<a href=\"https://colab.research.google.com/github/SidneyRz/estadistica_sem13/blob/main/Media.ipynb\" target=\"_parent\"><img src=\"https://colab.research.google.com/assets/colab-badge.svg\" alt=\"Open In Colab\"/></a>"
      ]
    },
    {
      "cell_type": "code",
      "execution_count": 15,
      "metadata": {
        "id": "cZTNCvrRt2Lf"
      },
      "outputs": [],
      "source": [
        "from pyspark.sql import SparkSession\n",
        "from pyspark.sql.functions import col, expr, mean, corr,row_number"
      ]
    },
    {
      "cell_type": "code",
      "source": [
        "spark = SparkSession.builder.appName(\"Estadistica\").getOrCreate()"
      ],
      "metadata": {
        "id": "Pbmiqnelt5Z2"
      },
      "execution_count": 2,
      "outputs": []
    },
    {
      "cell_type": "code",
      "source": [
        "df = spark.read.csv(\"ejemplo_notas1.csv\", header=True, inferSchema=True)"
      ],
      "metadata": {
        "id": "47FCsPILt7Z9"
      },
      "execution_count": 3,
      "outputs": []
    },
    {
      "cell_type": "code",
      "source": [
        "df.show()"
      ],
      "metadata": {
        "colab": {
          "base_uri": "https://localhost:8080/"
        },
        "id": "6Njl_I9WuEZF",
        "outputId": "f0561f03-0dee-452b-b19e-f044e96a3469"
      },
      "execution_count": 4,
      "outputs": [
        {
          "output_type": "stream",
          "name": "stdout",
          "text": [
            "+---------+---+---+---+\n",
            "|   Alumno| T1| T2| T3|\n",
            "+---------+---+---+---+\n",
            "|   Pepito| 12| 10| 14|\n",
            "|     Jose| 15| 19| 15|\n",
            "|   Camila| 17| 17| 17|\n",
            "|     Luis| 11| 15| 16|\n",
            "|      Ana| 12| 10| 15|\n",
            "|    Maria| 16| 11| 17|\n",
            "|Sebastian| 18| 12| 12|\n",
            "|    Marco| 20| 16| 18|\n",
            "|  William| 16| 14| 13|\n",
            "|   Alvaro| 19| 18| 14|\n",
            "+---------+---+---+---+\n",
            "\n"
          ]
        }
      ]
    },
    {
      "cell_type": "code",
      "source": [
        "df.select(mean(col(\"T1\")).alias(\"Media/T1\")).show()"
      ],
      "metadata": {
        "colab": {
          "base_uri": "https://localhost:8080/"
        },
        "id": "8B7BurF0uHle",
        "outputId": "64f3d445-105c-40f7-d0e9-7e09833823a7"
      },
      "execution_count": 7,
      "outputs": [
        {
          "output_type": "stream",
          "name": "stdout",
          "text": [
            "+--------+\n",
            "|Media/T1|\n",
            "+--------+\n",
            "|    15.6|\n",
            "+--------+\n",
            "\n"
          ]
        }
      ]
    },
    {
      "cell_type": "code",
      "source": [
        "df.select(mean(col(\"T2\")).alias(\"Media/T2\")).show()"
      ],
      "metadata": {
        "colab": {
          "base_uri": "https://localhost:8080/"
        },
        "id": "Ugzts0NuuSfF",
        "outputId": "d44c9fc5-38e5-4da4-efb8-c8f44d452b88"
      },
      "execution_count": 9,
      "outputs": [
        {
          "output_type": "stream",
          "name": "stdout",
          "text": [
            "+--------+\n",
            "|Media/T2|\n",
            "+--------+\n",
            "|    14.2|\n",
            "+--------+\n",
            "\n"
          ]
        }
      ]
    },
    {
      "cell_type": "code",
      "source": [
        "df.select(mean(col(\"T3\")).alias(\"Media/T3\")).show()"
      ],
      "metadata": {
        "colab": {
          "base_uri": "https://localhost:8080/"
        },
        "id": "f76SwSnIuaOl",
        "outputId": "996c58f5-3766-4e4c-a572-c164a5af9c97"
      },
      "execution_count": 10,
      "outputs": [
        {
          "output_type": "stream",
          "name": "stdout",
          "text": [
            "+--------+\n",
            "|Media/T3|\n",
            "+--------+\n",
            "|    15.1|\n",
            "+--------+\n",
            "\n"
          ]
        }
      ]
    }
  ]
}