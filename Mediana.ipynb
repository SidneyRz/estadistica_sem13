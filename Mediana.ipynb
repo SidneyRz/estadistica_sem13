{
  "nbformat": 4,
  "nbformat_minor": 0,
  "metadata": {
    "colab": {
      "provenance": [],
      "authorship_tag": "ABX9TyP6PPmWTJOhdXe/sXodyQoe",
      "include_colab_link": true
    },
    "kernelspec": {
      "name": "python3",
      "display_name": "Python 3"
    },
    "language_info": {
      "name": "python"
    }
  },
  "cells": [
    {
      "cell_type": "markdown",
      "metadata": {
        "id": "view-in-github",
        "colab_type": "text"
      },
      "source": [
        "<a href=\"https://colab.research.google.com/github/SidneyRz/estadistica_sem13/blob/main/Mediana.ipynb\" target=\"_parent\"><img src=\"https://colab.research.google.com/assets/colab-badge.svg\" alt=\"Open In Colab\"/></a>"
      ]
    },
    {
      "cell_type": "code",
      "execution_count": 2,
      "metadata": {
        "id": "Uzj-imFpwWC1"
      },
      "outputs": [],
      "source": [
        "from pyspark.sql import SparkSession\n",
        "from pyspark.sql.functions import col, expr, mean, corr"
      ]
    },
    {
      "cell_type": "code",
      "source": [
        "spark = SparkSession.builder.appName(\"Estadistica\").getOrCreate()"
      ],
      "metadata": {
        "id": "cqDnsIAdwZgO"
      },
      "execution_count": 3,
      "outputs": []
    },
    {
      "cell_type": "code",
      "source": [
        "df=spark.read.csv(\"ejemplo_notas1.csv\", header=True, inferSchema=True)"
      ],
      "metadata": {
        "id": "TPzAsFnrwmDV"
      },
      "execution_count": 4,
      "outputs": []
    },
    {
      "cell_type": "code",
      "source": [
        "df.show()"
      ],
      "metadata": {
        "colab": {
          "base_uri": "https://localhost:8080/"
        },
        "id": "kxQ4a1ZAw6wl",
        "outputId": "d5ae83c7-fc17-44f4-996c-6a9d3e5fee7b"
      },
      "execution_count": 5,
      "outputs": [
        {
          "output_type": "stream",
          "name": "stdout",
          "text": [
            "+---------+---+---+---+\n",
            "|   Alumno| T1| T2| T3|\n",
            "+---------+---+---+---+\n",
            "|   Pepito| 12| 10| 14|\n",
            "|     Jose| 15| 19| 15|\n",
            "|   Camila| 17| 17| 17|\n",
            "|     Luis| 11| 15| 16|\n",
            "|      Ana| 12| 10| 15|\n",
            "|    Maria| 16| 11| 17|\n",
            "|Sebastian| 18| 12| 12|\n",
            "|    Marco| 20| 16| 18|\n",
            "|  William| 16| 14| 13|\n",
            "|   Alvaro| 19| 18| 14|\n",
            "+---------+---+---+---+\n",
            "\n"
          ]
        }
      ]
    },
    {
      "cell_type": "code",
      "source": [
        "var_mediana = df.approxQuantile(\"T1\",[0.5],0.0)"
      ],
      "metadata": {
        "id": "30vvzTo8xNOu"
      },
      "execution_count": 6,
      "outputs": []
    },
    {
      "cell_type": "code",
      "source": [
        "print(\"La mediana es:\",var_mediana)"
      ],
      "metadata": {
        "colab": {
          "base_uri": "https://localhost:8080/"
        },
        "id": "V1GvM2pBxR52",
        "outputId": "c91d7b59-bb8e-4883-b2bb-1ddf5fd82478"
      },
      "execution_count": 7,
      "outputs": [
        {
          "output_type": "stream",
          "name": "stdout",
          "text": [
            "La mediana es: [16.0]\n"
          ]
        }
      ]
    },
    {
      "cell_type": "code",
      "source": [
        "var_mediana2 = df.approxQuantile(\"T2\",[0.5],0.0)"
      ],
      "metadata": {
        "id": "n-IKmDnFxX_9"
      },
      "execution_count": 8,
      "outputs": []
    },
    {
      "cell_type": "code",
      "source": [
        "print(\"La mediana es:\",var_mediana2)"
      ],
      "metadata": {
        "colab": {
          "base_uri": "https://localhost:8080/"
        },
        "id": "4-_-YQeYxext",
        "outputId": "5e945a21-c92a-4ea8-d6d9-3823aa18faae"
      },
      "execution_count": 9,
      "outputs": [
        {
          "output_type": "stream",
          "name": "stdout",
          "text": [
            "La mediana es: [14.0]\n"
          ]
        }
      ]
    },
    {
      "cell_type": "code",
      "source": [
        "var_mediana3 = df.approxQuantile(\"T3\",[0.5],0.0)"
      ],
      "metadata": {
        "id": "NE3iP7fJxhPN"
      },
      "execution_count": 10,
      "outputs": []
    },
    {
      "cell_type": "code",
      "source": [
        "print(\"La mediana es:\",var_mediana3)"
      ],
      "metadata": {
        "colab": {
          "base_uri": "https://localhost:8080/"
        },
        "id": "vVI7bmiAxjel",
        "outputId": "dd32fc5a-1cab-44d5-d581-8bca4120e212"
      },
      "execution_count": 11,
      "outputs": [
        {
          "output_type": "stream",
          "name": "stdout",
          "text": [
            "La mediana es: [15.0]\n"
          ]
        }
      ]
    }
  ]
}